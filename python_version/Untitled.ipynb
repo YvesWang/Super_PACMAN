{
 "cells": [
  {
   "cell_type": "code",
   "execution_count": 5,
   "metadata": {},
   "outputs": [
    {
     "name": "stdout",
     "output_type": "stream",
     "text": [
      "0\n",
      "Pacman died! Score: -515\n",
      "*************************************\n",
      "total_step: 44, total_time: 5.235764980316162, average_time is 0.11899465864354913\n",
      "\n",
      "real\t0m6.821s\n",
      "user\t0m1.056s\n",
      "sys\t0m0.240s\n",
      "1\n",
      "Pacman died! Score: -515\n",
      "*************************************\n",
      "total_step: 44, total_time: 4.291654825210571, average_time is 0.09753760966387662\n",
      "\n",
      "real\t0m5.962s\n",
      "user\t0m1.080s\n",
      "sys\t0m0.259s\n",
      "2\n",
      "Pacman died! Score: -515\n",
      "*************************************\n",
      "total_step: 44, total_time: 4.228060960769653, average_time is 0.09609229456294667\n",
      "\n",
      "real\t0m5.812s\n",
      "user\t0m1.058s\n",
      "sys\t0m0.251s\n",
      "3\n",
      "Pacman died! Score: -518\n",
      "*************************************\n",
      "total_step: 54, total_time: 6.392401218414307, average_time is 0.11837780034100567\n",
      "\n",
      "real\t0m7.959s\n",
      "user\t0m1.281s\n",
      "sys\t0m0.287s\n",
      "4\n",
      "Pacman died! Score: -515\n",
      "*************************************\n",
      "total_step: 44, total_time: 3.9855597019195557, average_time is 0.09058090231635353\n",
      "\n",
      "real\t0m5.540s\n",
      "user\t0m1.056s\n",
      "sys\t0m0.248s\n",
      "5\n",
      "Pacman died! Score: -520\n",
      "*************************************\n",
      "total_step: 60, total_time: 6.315500974655151, average_time is 0.10525834957758586\n",
      "\n",
      "real\t0m7.900s\n",
      "user\t0m1.304s\n",
      "sys\t0m0.299s\n",
      "6\n",
      "Pacman died! Score: -515\n",
      "*************************************\n",
      "total_step: 44, total_time: 4.284881830215454, average_time is 0.09738367795944214\n",
      "\n",
      "real\t0m5.856s\n",
      "user\t0m1.069s\n",
      "sys\t0m0.247s\n",
      "7\n",
      "Pacman died! Score: -522\n",
      "*************************************\n",
      "total_step: 66, total_time: 7.509101867675781, average_time is 0.11377427072236032\n",
      "\n",
      "real\t0m9.071s\n",
      "user\t0m1.466s\n",
      "sys\t0m0.321s\n",
      "8\n",
      "Pacman died! Score: -516\n",
      "*************************************\n",
      "total_step: 48, total_time: 5.729749917984009, average_time is 0.11936978995800018\n",
      "\n",
      "real\t0m7.333s\n",
      "user\t0m1.190s\n",
      "sys\t0m0.273s\n",
      "9\n",
      "Pacman died! Score: -515\n",
      "*************************************\n",
      "total_step: 44, total_time: 4.2897491455078125, average_time is 0.0974942987615412\n",
      "\n",
      "real\t0m5.850s\n",
      "user\t0m1.059s\n",
      "sys\t0m0.248s\n"
     ]
    }
   ],
   "source": [
    "for i in range(10):\n",
    "    print(i)\n",
    "    !time python3 pacman.py --ghosts ShortestPathGhost"
   ]
  },
  {
   "cell_type": "code",
   "execution_count": 7,
   "metadata": {},
   "outputs": [
    {
     "name": "stdout",
     "output_type": "stream",
     "text": [
      "0\n",
      "Traceback (most recent call last):\n",
      "  File \"../copy/pacman.py\", line 620, in <module>\n",
      "    args = readCommand( sys.argv[1:] ) # Get game components based on input\n",
      "  File \"../copy/pacman.py\", line 552, in readCommand\n",
      "    import graphicsDisplay\n",
      "  File \"/Users/zhe/advanced_python/pec_man/copy/graphicsDisplay.py\", line 9, in <module>\n",
      "    from graphicsUtils import *\n",
      "  File \"/Users/zhe/advanced_python/pec_man/copy/graphicsUtils.py\", line 290, in <module>\n",
      "    d_o_e=tkinter.Tk().tk.doneevent,\n",
      "AttributeError: '_tkinter.tkapp' object has no attribute 'doneevent'\n",
      "\n",
      "real\t0m0.300s\n",
      "user\t0m0.292s\n",
      "sys\t0m0.079s\n",
      "1\n",
      "Traceback (most recent call last):\n",
      "  File \"../copy/pacman.py\", line 620, in <module>\n",
      "    args = readCommand( sys.argv[1:] ) # Get game components based on input\n",
      "  File \"../copy/pacman.py\", line 552, in readCommand\n",
      "    import graphicsDisplay\n",
      "  File \"/Users/zhe/advanced_python/pec_man/copy/graphicsDisplay.py\", line 9, in <module>\n",
      "    from graphicsUtils import *\n",
      "  File \"/Users/zhe/advanced_python/pec_man/copy/graphicsUtils.py\", line 290, in <module>\n",
      "    d_o_e=tkinter.Tk().tk.doneevent,\n",
      "AttributeError: '_tkinter.tkapp' object has no attribute 'doneevent'\n",
      "\n",
      "real\t0m0.241s\n",
      "user\t0m0.264s\n",
      "sys\t0m0.068s\n"
     ]
    }
   ],
   "source": [
    "for i in range(2):\n",
    "    print(i)\n",
    "    !time python3 ../copy/pacman.py --ghosts ShortestPathGhost"
   ]
  },
  {
   "cell_type": "code",
   "execution_count": null,
   "metadata": {
    "collapsed": true
   },
   "outputs": [],
   "source": []
  }
 ],
 "metadata": {
  "kernelspec": {
   "display_name": "Python 3",
   "language": "python",
   "name": "python3"
  },
  "language_info": {
   "codemirror_mode": {
    "name": "ipython",
    "version": 3
   },
   "file_extension": ".py",
   "mimetype": "text/x-python",
   "name": "python",
   "nbconvert_exporter": "python",
   "pygments_lexer": "ipython3",
   "version": "3.6.8"
  }
 },
 "nbformat": 4,
 "nbformat_minor": 2
}
